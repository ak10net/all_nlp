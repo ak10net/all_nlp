{
 "cells": [
  {
   "cell_type": "code",
   "execution_count": 3,
   "metadata": {},
   "outputs": [
    {
     "name": "stderr",
     "output_type": "stream",
     "text": [
      "[nltk_data] Downloading package punkt to\n",
      "[nltk_data]     C:\\Users\\ankit.dubey\\AppData\\Roaming\\nltk_data...\n",
      "[nltk_data]   Package punkt is already up-to-date!\n",
      "[nltk_data] Downloading package wordnet to\n",
      "[nltk_data]     C:\\Users\\ankit.dubey\\AppData\\Roaming\\nltk_data...\n",
      "[nltk_data]   Package wordnet is already up-to-date!\n",
      "[nltk_data] Downloading package stopwords to\n",
      "[nltk_data]     C:\\Users\\ankit.dubey\\AppData\\Roaming\\nltk_data...\n",
      "[nltk_data]   Package stopwords is already up-to-date!\n"
     ]
    }
   ],
   "source": [
    "from keras.preprocessing.text import Tokenizer\n",
    "from gensim.models.fasttext import FastText\n",
    "import numpy as np\n",
    "import matplotlib.pyplot as plt\n",
    "import nltk\n",
    "from string import punctuation\n",
    "from nltk.corpus import stopwords\n",
    "from nltk.stem import WordNetLemmatizer\n",
    "from nltk.tokenize import sent_tokenize\n",
    "from nltk import WordPunctTokenizer\n",
    "\n",
    "import wikipedia\n",
    "nltk.download('punkt')\n",
    "nltk.download('wordnet')\n",
    "nltk.download('stopwords')\n",
    "en_stop = set(nltk.corpus.stopwords.words('english'))\n",
    "\n",
    "%matplotlib inline"
   ]
  },
  {
   "cell_type": "code",
   "execution_count": 5,
   "metadata": {},
   "outputs": [],
   "source": [
    "artificial_intelligence = wikipedia.page(\"Artificial Intelligence\").content\n",
    "#machine_learning = wikipedia.page(\"Machine Learning\").content\n",
    "deep_learning = wikipedia.page(\"Deep Learning\").content\n",
    "neural_network = wikipedia.page(\"Neural Network\").content\n",
    "\n",
    "artificial_intelligence = sent_tokenize(artificial_intelligence)\n",
    "#machine_learning = sent_tokenize(machine_learning)\n",
    "deep_learning = sent_tokenize(deep_learning)\n",
    "neural_network = sent_tokenize(neural_network)\n",
    "\n",
    "#artificial_intelligence.extend(machine_learning)\n",
    "artificial_intelligence.extend(deep_learning)\n",
    "artificial_intelligence.extend(neural_network)"
   ]
  },
  {
   "cell_type": "code",
   "execution_count": 8,
   "metadata": {},
   "outputs": [],
   "source": [
    "import re\n",
    "\n",
    "stemmer = WordNetLemmatizer()\n",
    "\n",
    "def preprocess_text(document):\n",
    "    document = re.sub(r'W', ' ', str(document))\n",
    "    document = re.sub(r'\\s+[a-zA-Z]\\s+', ' ', document)\n",
    "    document = re.sub(r'\\^[a-zA-Z]\\s+', ' ', document)\n",
    "    document = re.sub(r'\\s+', ' ', document, flags=re.I)\n",
    "    document = re.sub(r'^b\\s+', '', document)\n",
    "    document = document.lower()\n",
    "    \n",
    "    tokens = document.split()\n",
    "    tokens = [stemmer.lemmatize(word) for word in tokens]\n",
    "    tokens = [word for word in tokens if word not in en_stop]\n",
    "    tokens = [word for word in tokens if len(word) > 3]\n",
    "    \n",
    "    preprocessed_text = ' '.join(tokens)\n",
    "    \n",
    "    return preprocessed_text"
   ]
  },
  {
   "cell_type": "code",
   "execution_count": 9,
   "metadata": {},
   "outputs": [],
   "source": [
    "final_corpus = [preprocess_text(sentence) for sentence in artificial_intelligence if sentence.strip() !='']\n",
    "word_punctuation_tokenizer = nltk.WordPunctTokenizer()\n",
    "word_tokenized_corpus = [word_punctuation_tokenizer.tokenize(sent) for sent in final_corpus]"
   ]
  },
  {
   "cell_type": "code",
   "execution_count": 13,
   "metadata": {},
   "outputs": [
    {
     "name": "stdout",
     "output_type": "stream",
     "text": [
      "Wall time: 23.2 s\n"
     ]
    }
   ],
   "source": [
    "%%time\n",
    "embedding_size = 60\n",
    "window_size = 40\n",
    "min_word = 5\n",
    "down_sampling = 1e-2\n",
    "\n",
    "ft_model = FastText(word_tokenized_corpus,\n",
    "                   size=embedding_size,\n",
    "                   window=window_size,\n",
    "                   min_count=min_word,\n",
    "                   sample=down_sampling,\n",
    "                   sg=1,\n",
    "                   iter=100)"
   ]
  },
  {
   "cell_type": "code",
   "execution_count": 14,
   "metadata": {},
   "outputs": [
    {
     "name": "stdout",
     "output_type": "stream",
     "text": [
      "[-0.07866699  0.37130713  0.07648889  0.31414685  0.56786615  1.0314449\n",
      "  0.5247187   0.02725329  0.5003674   1.849343    0.43510252  1.0367752\n",
      "  0.38215113  0.57445776  0.3075844   0.40124205  1.268822    1.1747196\n",
      " -0.09633882  0.8573055  -0.30654305 -0.38291526 -0.55183977  0.20077093\n",
      "  0.17717676 -0.16297822 -0.05875342 -0.61936635 -0.53664285  0.22176027\n",
      " -0.2108391  -0.22321855 -0.9190714  -0.6157373  -0.04053863 -0.37945074\n",
      " -0.72270715 -0.01986952 -1.040852   -0.03169518 -0.38534817  0.1141667\n",
      "  0.31587738  0.03858675 -0.94437206  0.19452316 -0.4913997   0.2785089\n",
      " -0.33315587  0.4962105   0.30289802 -0.08790424  0.38218808 -0.31213245\n",
      " -0.13935074 -0.10680815  0.35467362 -0.91481006 -0.21629381 -0.2909696 ]\n"
     ]
    }
   ],
   "source": [
    "print(ft_model.wv['convolution'])"
   ]
  },
  {
   "cell_type": "code",
   "execution_count": 15,
   "metadata": {},
   "outputs": [
    {
     "name": "stdout",
     "output_type": "stream",
     "text": [
      "artificial:['intelligence', 'simulated', 'simulate', 'machine', 'moral']\n",
      "convolution:['convolutional', 'vision', 'gradient', 'supervised', 'revolution']\n",
      "machine:['ethic', 'intelligence', ',', 'artificial', 'ability']\n",
      "gradient:['structure', 'avoid', 'context', 'variety', 'convolutional']\n",
      "neural:['network', 'networks', 'biological', 'model', 'deep']\n"
     ]
    }
   ],
   "source": [
    "semantically_similar_words = {words: [item[0] for item in ft_model.wv.most_similar([words], topn=5)]\n",
    "                             for words in ['artificial', 'convolution', 'machine', 'gradient', 'neural']}\n",
    "\n",
    "for k, v in semantically_similar_words.items():\n",
    "    print(k+\":\"+str(v))"
   ]
  },
  {
   "cell_type": "code",
   "execution_count": 16,
   "metadata": {},
   "outputs": [
    {
     "name": "stdout",
     "output_type": "stream",
     "text": [
      "['artificial', 'intelligence', 'simulated', 'simulate', 'machine', 'moral', 'convolution', 'convolutional', 'vision', 'gradient', 'supervised', 'revolution', 'machine', 'ethic', 'intelligence', ',', 'artificial', 'ability', 'gradient', 'structure', 'avoid', 'context', 'variety', 'convolutional', 'neural', 'network', 'networks', 'biological', 'model', 'deep']\n",
      "<class 'list'>\n",
      "30\n"
     ]
    }
   ],
   "source": [
    "from sklearn.decomposition import PCA\n",
    "\n",
    "all_similar_words = sum([[k] + v for k, v in semantically_similar_words.items()], [])\n",
    "\n",
    "print(all_similar_words)\n",
    "print(type(all_similar_words))\n",
    "print(len(all_similar_words))"
   ]
  },
  {
   "cell_type": "code",
   "execution_count": 17,
   "metadata": {},
   "outputs": [
    {
     "data": {
      "image/png": "[encoded data removed]",
      "text/plain": [
       "<Figure size 1296x720 with 1 Axes>"
      ]
     },
     "metadata": {
      "needs_background": "light"
     },
     "output_type": "display_data"
    }
   ],
   "source": [
    "word_vectors = ft_model.wv[all_similar_words]\n",
    "\n",
    "pca = PCA(n_components=2)\n",
    "p_comps = pca.fit_transform(word_vectors)\n",
    "word_names = all_similar_words\n",
    "\n",
    "plt.figure(figsize=(18,10))\n",
    "plt.scatter(p_comps[:, 0], p_comps[:, 1], c='red')\n",
    "\n",
    "for word_names, x, y in zip(word_names, p_comps[:,0], p_comps[:,1]):\n",
    "    plt.annotate(word_names, xy=(x+0.06, y+0.03), xytext=(0,0), textcoords='offset points')"
   ]
  },
  {
   "cell_type": "code",
   "execution_count": null,
   "metadata": {},
   "outputs": [],
   "source": []
  }
 ],
 "metadata": {
  "kernelspec": {
   "display_name": "Python 3",
   "language": "python",
   "name": "python3"
  },
  "language_info": {
   "codemirror_mode": {
    "name": "ipython",
    "version": 3
   },
   "file_extension": ".py",
   "mimetype": "text/x-python",
   "name": "python",
   "nbconvert_exporter": "python",
   "pygments_lexer": "ipython3",
   "version": "3.7.2"
  }
 },
 "nbformat": 4,
 "nbformat_minor": 2
}
