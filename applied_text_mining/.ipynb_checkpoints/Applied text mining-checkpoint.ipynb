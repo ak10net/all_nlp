{
 "cells": [
  {
   "cell_type": "code",
   "execution_count": 1,
   "metadata": {},
   "outputs": [
    {
     "name": "stdout",
     "output_type": "stream",
     "text": [
      "['.ipynb_checkpoints', 'Applied text mining.ipynb', 'ben-hamners-tweets', 'election_2016', 'gender-classifier', 'religious-and-philosophical-texts']\n"
     ]
    }
   ],
   "source": [
    "import numpy as np\n",
    "import pandas as pd\n",
    "import os\n",
    "print(os.listdir())"
   ]
  },
  {
   "cell_type": "code",
   "execution_count": 2,
   "metadata": {},
   "outputs": [
    {
     "name": "stdout",
     "output_type": "stream",
     "text": [
      "length of text:  15\n",
      "Splitted text:  ['No', 'woman', 'no', 'cry']\n"
     ]
    }
   ],
   "source": [
    "text = 'No woman no cry'\n",
    "print('length of text: ', len(text))\n",
    "splitted_text = text.split()\n",
    "print('Splitted text: ', splitted_text)"
   ]
  },
  {
   "cell_type": "code",
   "execution_count": 3,
   "metadata": {},
   "outputs": [
    {
     "name": "stdout",
     "output_type": "stream",
     "text": [
      "Words which are more than 3 letters:  ['woman', 'cry']\n"
     ]
    }
   ],
   "source": [
    "specific_words = [word for word in splitted_text if (len(word)>2)]\n",
    "print('Words which are more than 3 letters: ', specific_words)"
   ]
  },
  {
   "cell_type": "code",
   "execution_count": 4,
   "metadata": {},
   "outputs": [
    {
     "name": "stdout",
     "output_type": "stream",
     "text": [
      "Capitalized words:  ['No']\n"
     ]
    }
   ],
   "source": [
    "capital_words = [word for word in splitted_text if (word.istitle())]\n",
    "print('Capitalized words: ', capital_words)"
   ]
  },
  {
   "cell_type": "code",
   "execution_count": 5,
   "metadata": {},
   "outputs": [
    {
     "name": "stdout",
     "output_type": "stream",
     "text": [
      "words end with o:  ['No', 'no']\n"
     ]
    }
   ],
   "source": [
    "word_ending_with_o = [word for word in splitted_text if word.endswith('o')]\n",
    "print('words end with o: ', word_ending_with_o)"
   ]
  },
  {
   "cell_type": "code",
   "execution_count": 6,
   "metadata": {},
   "outputs": [
    {
     "name": "stdout",
     "output_type": "stream",
     "text": [
      "words start with w:  ['woman']\n"
     ]
    }
   ],
   "source": [
    "word_starting_with_w = [word for word in splitted_text if word.startswith('w')]\n",
    "print('words start with w: ', word_starting_with_w)"
   ]
  },
  {
   "cell_type": "code",
   "execution_count": 8,
   "metadata": {},
   "outputs": [
    {
     "name": "stdout",
     "output_type": "stream",
     "text": [
      "unique words:  {'no', 'woman', 'cry'}\n"
     ]
    }
   ],
   "source": [
    "lowercase_text = [word.lower() for word in splitted_text]\n",
    "print('unique words: ', set(lowercase_text))"
   ]
  },
  {
   "cell_type": "code",
   "execution_count": 9,
   "metadata": {},
   "outputs": [
    {
     "data": {
      "text/plain": [
       "True"
      ]
     },
     "execution_count": 9,
     "metadata": {},
     "output_type": "execute_result"
    }
   ],
   "source": [
    "'w' in 'woman'"
   ]
  },
  {
   "cell_type": "code",
   "execution_count": 10,
   "metadata": {},
   "outputs": [
    {
     "data": {
      "text/plain": [
       "True"
      ]
     },
     "execution_count": 10,
     "metadata": {},
     "output_type": "execute_result"
    }
   ],
   "source": [
    "'WOMAN'.isupper()"
   ]
  },
  {
   "cell_type": "code",
   "execution_count": 12,
   "metadata": {},
   "outputs": [
    {
     "data": {
      "text/plain": [
       "False"
      ]
     },
     "execution_count": 12,
     "metadata": {},
     "output_type": "execute_result"
    }
   ],
   "source": [
    "'Cry'.islower()"
   ]
  },
  {
   "cell_type": "code",
   "execution_count": 13,
   "metadata": {},
   "outputs": [
    {
     "data": {
      "text/plain": [
       "False"
      ]
     },
     "execution_count": 13,
     "metadata": {},
     "output_type": "execute_result"
    }
   ],
   "source": [
    "'123abc'.isdigit()"
   ]
  },
  {
   "cell_type": "code",
   "execution_count": 18,
   "metadata": {},
   "outputs": [
    {
     "data": {
      "text/plain": [
       "'111No'"
      ]
     },
     "execution_count": 18,
     "metadata": {},
     "output_type": "execute_result"
    }
   ],
   "source": [
    "'000111No'.strip('0')"
   ]
  },
  {
   "cell_type": "code",
   "execution_count": 19,
   "metadata": {},
   "outputs": [
    {
     "data": {
      "text/plain": [
       "10"
      ]
     },
     "execution_count": 19,
     "metadata": {},
     "output_type": "execute_result"
    }
   ],
   "source": [
    "'No woman no cry'.rfind('o')"
   ]
  },
  {
   "cell_type": "code",
   "execution_count": 20,
   "metadata": {},
   "outputs": [
    {
     "data": {
      "text/plain": [
       "'N3 w3man n3 cry'"
      ]
     },
     "execution_count": 20,
     "metadata": {},
     "output_type": "execute_result"
    }
   ],
   "source": [
    "'No woman no cry'.replace('o', '3')"
   ]
  },
  {
   "cell_type": "code",
   "execution_count": 21,
   "metadata": {},
   "outputs": [
    {
     "name": "stdout",
     "output_type": "stream",
     "text": [
      "Split text:  ['', '', '', '', '', '', '', 'Be', 'fair', 'and', 'tolerant', '', '', '', '', '']\n"
     ]
    }
   ],
   "source": [
    "text1 = '       Be fair and tolerant     '\n",
    "print('Split text: ', text1.split(' '))"
   ]
  },
  {
   "cell_type": "code",
   "execution_count": 22,
   "metadata": {},
   "outputs": [
    {
     "name": "stdout",
     "output_type": "stream",
     "text": [
      "Cleaned text:  ['Be', 'fair', 'and', 'tolerant']\n"
     ]
    }
   ],
   "source": [
    "print('Cleaned text: ', text1.strip().split(' '))"
   ]
  },
  {
   "cell_type": "code",
   "execution_count": 27,
   "metadata": {},
   "outputs": [],
   "source": [
    "f = open('religious-and-philosophical-texts/35895-0.txt', 'r', encoding='utf-8')"
   ]
  },
  {
   "cell_type": "code",
   "execution_count": 28,
   "metadata": {},
   "outputs": [
    {
     "name": "stdout",
     "output_type": "stream",
     "text": [
      "﻿The Project Gutenberg EBook of The Gospel of Buddha, by Paul Carus\n",
      "\n"
     ]
    }
   ],
   "source": [
    "print(f.readline())"
   ]
  },
  {
   "cell_type": "code",
   "execution_count": 29,
   "metadata": {},
   "outputs": [
    {
     "name": "stdout",
     "output_type": "stream",
     "text": [
      "Length of text:  580941\n"
     ]
    }
   ],
   "source": [
    "text3 = f.read()\n",
    "print('Length of text: ', len(text3))"
   ]
  },
  {
   "cell_type": "code",
   "execution_count": 30,
   "metadata": {},
   "outputs": [
    {
     "name": "stdout",
     "output_type": "stream",
     "text": [
      "Number of lines:  13220\n"
     ]
    }
   ],
   "source": [
    "lines = text3.splitlines()\n",
    "print('Number of lines: ', len(lines))"
   ]
  },
  {
   "cell_type": "code",
   "execution_count": 33,
   "metadata": {},
   "outputs": [
    {
     "data": {
      "text/plain": [
       "'\"This, then, O bhikkhus, is the noble truth concerning suffering.   24'"
      ]
     },
     "execution_count": 33,
     "metadata": {},
     "output_type": "execute_result"
    }
   ],
   "source": [
    "lines[2100]"
   ]
  },
  {
   "cell_type": "code",
   "execution_count": 34,
   "metadata": {},
   "outputs": [
    {
     "data": {
      "text/html": [
       "<div>\n",
       "<style scoped>\n",
       "    .dataframe tbody tr th:only-of-type {\n",
       "        vertical-align: middle;\n",
       "    }\n",
       "\n",
       "    .dataframe tbody tr th {\n",
       "        vertical-align: top;\n",
       "    }\n",
       "\n",
       "    .dataframe thead th {\n",
       "        text-align: right;\n",
       "    }\n",
       "</style>\n",
       "<table border=\"1\" class=\"dataframe\">\n",
       "  <thead>\n",
       "    <tr style=\"text-align: right;\">\n",
       "      <th></th>\n",
       "      <th>text</th>\n",
       "      <th>favorited</th>\n",
       "      <th>favoriteCount</th>\n",
       "      <th>replyToSN</th>\n",
       "      <th>created</th>\n",
       "      <th>truncated</th>\n",
       "      <th>replyToSID</th>\n",
       "      <th>id</th>\n",
       "      <th>replyToUID</th>\n",
       "      <th>statusSource</th>\n",
       "      <th>screenName</th>\n",
       "      <th>retweetCount</th>\n",
       "      <th>isRetweet</th>\n",
       "      <th>retweeted</th>\n",
       "      <th>longitude</th>\n",
       "      <th>latitude</th>\n",
       "    </tr>\n",
       "  </thead>\n",
       "  <tbody>\n",
       "    <tr>\n",
       "      <th>0</th>\n",
       "      <td>âThe case for learned index structuresâ - ...</td>\n",
       "      <td>False</td>\n",
       "      <td>29</td>\n",
       "      <td>NaN</td>\n",
       "      <td>2017-12-11 16:21:59</td>\n",
       "      <td>True</td>\n",
       "      <td>NaN</td>\n",
       "      <td>940255351378624512</td>\n",
       "      <td>NaN</td>\n",
       "      <td>&lt;a href=\"http://twitter.com/download/iphone\" r...</td>\n",
       "      <td>benhamner</td>\n",
       "      <td>10</td>\n",
       "      <td>False</td>\n",
       "      <td>False</td>\n",
       "      <td>NaN</td>\n",
       "      <td>NaN</td>\n",
       "    </tr>\n",
       "    <tr>\n",
       "      <th>1</th>\n",
       "      <td>@Smerity Lock you in a black box with a window...</td>\n",
       "      <td>False</td>\n",
       "      <td>11</td>\n",
       "      <td>Smerity</td>\n",
       "      <td>2017-12-10 04:16:21</td>\n",
       "      <td>True</td>\n",
       "      <td>9.396588e+17</td>\n",
       "      <td>939710351305670656</td>\n",
       "      <td>15363432.0</td>\n",
       "      <td>&lt;a href=\"http://twitter.com/download/iphone\" r...</td>\n",
       "      <td>benhamner</td>\n",
       "      <td>0</td>\n",
       "      <td>False</td>\n",
       "      <td>False</td>\n",
       "      <td>NaN</td>\n",
       "      <td>NaN</td>\n",
       "    </tr>\n",
       "    <tr>\n",
       "      <th>2</th>\n",
       "      <td>What policy outcomes are you aiming to achieve...</td>\n",
       "      <td>False</td>\n",
       "      <td>5</td>\n",
       "      <td>NaN</td>\n",
       "      <td>2017-12-09 22:47:22</td>\n",
       "      <td>True</td>\n",
       "      <td>NaN</td>\n",
       "      <td>939627560631132160</td>\n",
       "      <td>NaN</td>\n",
       "      <td>&lt;a href=\"http://twitter.com/download/iphone\" r...</td>\n",
       "      <td>benhamner</td>\n",
       "      <td>0</td>\n",
       "      <td>False</td>\n",
       "      <td>False</td>\n",
       "      <td>NaN</td>\n",
       "      <td>NaN</td>\n",
       "    </tr>\n",
       "    <tr>\n",
       "      <th>3</th>\n",
       "      <td>âMachine learning for systems and systems fo...</td>\n",
       "      <td>False</td>\n",
       "      <td>34</td>\n",
       "      <td>NaN</td>\n",
       "      <td>2017-12-09 22:40:48</td>\n",
       "      <td>False</td>\n",
       "      <td>NaN</td>\n",
       "      <td>939625906775003136</td>\n",
       "      <td>NaN</td>\n",
       "      <td>&lt;a href=\"http://twitter.com/download/iphone\" r...</td>\n",
       "      <td>benhamner</td>\n",
       "      <td>21</td>\n",
       "      <td>False</td>\n",
       "      <td>False</td>\n",
       "      <td>NaN</td>\n",
       "      <td>NaN</td>\n",
       "    </tr>\n",
       "    <tr>\n",
       "      <th>4</th>\n",
       "      <td>From the number of talks @goodfellow_ianâs g...</td>\n",
       "      <td>True</td>\n",
       "      <td>180</td>\n",
       "      <td>NaN</td>\n",
       "      <td>2017-12-09 21:59:28</td>\n",
       "      <td>False</td>\n",
       "      <td>NaN</td>\n",
       "      <td>939615505165402112</td>\n",
       "      <td>NaN</td>\n",
       "      <td>&lt;a href=\"http://twitter.com/download/iphone\" r...</td>\n",
       "      <td>benhamner</td>\n",
       "      <td>10</td>\n",
       "      <td>False</td>\n",
       "      <td>False</td>\n",
       "      <td>NaN</td>\n",
       "      <td>NaN</td>\n",
       "    </tr>\n",
       "  </tbody>\n",
       "</table>\n",
       "</div>"
      ],
      "text/plain": [
       "                                                text  favorited  \\\n",
       "0  âThe case for learned index structuresâ - ...      False   \n",
       "1  @Smerity Lock you in a black box with a window...      False   \n",
       "2  What policy outcomes are you aiming to achieve...      False   \n",
       "3  âMachine learning for systems and systems fo...      False   \n",
       "4  From the number of talks @goodfellow_ianâs g...       True   \n",
       "\n",
       "   favoriteCount replyToSN              created  truncated    replyToSID  \\\n",
       "0             29       NaN  2017-12-11 16:21:59       True           NaN   \n",
       "1             11   Smerity  2017-12-10 04:16:21       True  9.396588e+17   \n",
       "2              5       NaN  2017-12-09 22:47:22       True           NaN   \n",
       "3             34       NaN  2017-12-09 22:40:48      False           NaN   \n",
       "4            180       NaN  2017-12-09 21:59:28      False           NaN   \n",
       "\n",
       "                   id  replyToUID  \\\n",
       "0  940255351378624512         NaN   \n",
       "1  939710351305670656  15363432.0   \n",
       "2  939627560631132160         NaN   \n",
       "3  939625906775003136         NaN   \n",
       "4  939615505165402112         NaN   \n",
       "\n",
       "                                        statusSource screenName  retweetCount  \\\n",
       "0  <a href=\"http://twitter.com/download/iphone\" r...  benhamner            10   \n",
       "1  <a href=\"http://twitter.com/download/iphone\" r...  benhamner             0   \n",
       "2  <a href=\"http://twitter.com/download/iphone\" r...  benhamner             0   \n",
       "3  <a href=\"http://twitter.com/download/iphone\" r...  benhamner            21   \n",
       "4  <a href=\"http://twitter.com/download/iphone\" r...  benhamner            10   \n",
       "\n",
       "   isRetweet  retweeted  longitude  latitude  \n",
       "0      False      False        NaN       NaN  \n",
       "1      False      False        NaN       NaN  \n",
       "2      False      False        NaN       NaN  \n",
       "3      False      False        NaN       NaN  \n",
       "4      False      False        NaN       NaN  "
      ]
     },
     "execution_count": 34,
     "metadata": {},
     "output_type": "execute_result"
    }
   ],
   "source": [
    "data = pd.read_csv('ben-hamners-tweets/benhamner.csv', encoding='latin-1')\n",
    "data.head()"
   ]
  },
  {
   "cell_type": "code",
   "execution_count": 35,
   "metadata": {},
   "outputs": [
    {
     "name": "stdout",
     "output_type": "stream",
     "text": [
      "Kaggle word frequency in tweets:  0.14735283228433912\n"
     ]
    }
   ],
   "source": [
    "print('Kaggle word frequency in tweets: ', sum(data.text.str.contains('kaggle'))/len(data))"
   ]
  },
  {
   "cell_type": "code",
   "execution_count": 58,
   "metadata": {},
   "outputs": [],
   "source": [
    "import re\n",
    "def callout(s):\n",
    "    callout = []\n",
    "    temp = s.split(' ')\n",
    "    for word in temp:\n",
    "        if re.match('@\\w+',word):\n",
    "            callout += word\n",
    "    return callout\n",
    "x = data['text'].apply(lambda x: callout(x))"
   ]
  },
  {
   "cell_type": "code",
   "execution_count": 79,
   "metadata": {},
   "outputs": [],
   "source": [
    "l = ''\n",
    "for i in x:\n",
    "    i = ''.join(i)\n",
    "    l += ' ' + str(i)"
   ]
  },
  {
   "cell_type": "code",
   "execution_count": 81,
   "metadata": {
    "collapsed": true
   },
   "outputs": [
    {
     "name": "stdout",
     "output_type": "stream",
     "text": [
      "  @Smerity @jackclarkSF? @jeffdean @goodfellow_ianâs  @elonmuskâ¦     @hardmaru  @lousylinguist  @micahstubbs       @kaggle's @data_beth @fchollet  @jakevdp@kaggle @jakevdp@kaggle @jakevdp@kaggle @jakevdp@kaggle @Kaggle @WomenInKaggle   @danbri    @martindaniel4@kaggle@AirbnbData@MeganRisdal @kaggle   @ogrisel@wesmckinn @CIA @fchollet@wesmckinn @wesmckinn. @wesmckinn@pacoid @alexandraj777   @Smerity)         @Kaggle @coursera @Kaggle  @sinclairerose@Kaggle @AndrewBrobston@kaggle @AndrewBrobston@kaggle    @Kaggleâs @kaggle@Airbnb@Giba1   @xamat @Kaggle@rctatman @Equity_Effect   @kaggleâ¦ @rctatman's@kaggle! @fchollet   @wesmckinn @kaggle  @dmi3k  @wesmckinn @Kaggle @Kaggle @Kaggle  @Kaggle @NipsConference   @kaggle! @UberEng's@ApacheSpark...) @kaggle@brucesharpe,  @kaggle        @Kaggle    @Kaggle  @DeepMindAI @MeganRisdal's@kaggle @Morgan_Sacco   @Kaggle @fchollet   @goodfellow_ian@kaggle @MeganRisdal: @mikb0b,@kaggle  @DaniellaEmanue1  @myles_oneill@kaggle@WSJ!  @DaniellaEmanue1 @loglog_vc@fchollet  @kaggle @JoseM_Arrieta  @Kaggle  @kaggle @kaggle @MeganRisdal    @kaggle: @data_beth @shgidi@kaggle  @kaggle @kaggle @mat_kelcey@MeganRisdal    @WomenInKaggle  @kaggle @kaggle @kaggle @kaggle @kaggle @kaggle@Kaggle @kaggle @Kaggle @kaggle's@McDonalds @kaggle's     @kaggle@jeremystan@Instacart's @karpathy @alexattia@kaggle@MeganRisdal @alexattia@kaggle@MeganRisdal @alexattia@kaggle@MeganRisdal @Kaggle@MeganRisdal @kaggle?@MeganRisdal @MercedesBenz @zillow @karpathy @kaggle@tensorflow @kaggle@Tensorflow @kaggle@Instacart @drob @antgoldbloom) @kaggle's@twosigma @bballinger's@UCSF @airbnb  @Smerity@fchollet @tensorflow @dzackgarza@kaggle @kaggle @fchollet @kaggle @googlecloud's @kaggle@QuoraSessions! @drob    @Quora@Twitter.  @vayama @jorgearellano@mikb0b    @alexandraj777 @nukhet@MLconf @fulhack  @mattocko@DCVC@RocketLabUSA  @QuoraSessions   @OpenAI @Quora's @QuoraSessions@Kaggle @intel@MobileODT  @betsyrolland @felipehoffa @Kaggle's @drfeifei@lijiali_vision, @Kaggle's@Google  @marcgbellemare@DeepMindAI @SpaceX   @kaggle    @xamat's@Quora@Quora @Quora@xamat   @Smerity    @susanthesquark   @kaggle@Google!   @CaltransDist10 @hrdag@kaggle@data_beth\n",
      "\n",
      "https://t.co/f9wm4VEO1i  @balazskegl@kaggle @kaggle @ProjectJupyter,@ellisonbg@fperez_org    @KirkDBorne   @kaggle   @karpathy  @SlackHQ @kaggle's @kaggle @KaggleDatasets  @SakumiBLR   @msjgriffiths @msjgriffiths @Apple @jeremyphoward               @Uber@Uber @kaggle's @kaggle  @kaggle @FiveThirtyEight   @kaggle's  @JeradRose)!  @goodfellow_ian @pabbeel   @OpenAI @Coffee_myLove @Coffee_myLove  @Nick_Craver  @sserhane@jeffmoser@antgoldbloom  @kaggle@twosigma   @karpathy @ankesh_anand@kaggle @kaggle@nature_org!\n",
      "\n",
      "https://t.co/kkbKUuIJpB @kaggle @shivon@jamescham @smerity @StackOverflow @kaggle @kaggle  @kaggle @CommerceGov  @StackExchange    @NipsConference@taylorswift13 @google @kaggle @guhdemari @kaggle @kaggle@poptimalityâ¦  @kaggle  @kaggle's@MeganRisdal  @drob@StackOverflow@kaggle @peteskomoroch   @wattenberg @kaggle   @kaggle@Allstate @kaggle. @OpenAI @kaggle@antgoldbloom's@QuoraSessions @LinkedIn   @jcukier @jcukier  @googleresearch  @SriniKadamati   @kaggle@MeganRisdal @google,   @realDonaldTrump's @Smerity@RichardSocher   @kaggle @danielphadley @sknthla @MLWave @kaggle@MLWave  @google@kaggle  @Airbnb  @rahulkapil @MeganRisdal    @nature, @blindfish_@kaggle @Kaggle  @courtlistener   @DeepMindAI  @lpolovets@ycombinator @ycombinator @kaggle @Nick_Craver @kaggle's  @kaggle's  @RandiRLudwig@datascienceatx @mewo2 @udacity   @OpenAI  @maxjaderberg        @MeganRisdal @ethanwhite @ethanwhite @ethanwhite @ethanwhite @_krisjack@kaggle @Nick_Craver @kaggle @kaggle @WalterReade @karpathy @OpenAI    @antgoldbloom's@TEDTalks   @pwang   @kaggle @kaggle@RedHatNews @drob@BecomingDataSci@kaggle @BecomingDataSci@bmurr26 @Coffee_myLove@BecomingDataSci@kaggle @abhi1thakur  @HipChat@SlackHQ@kaggle. @wikileaks   @AndreaCoravos @kaggle   @jeffmoser)   @kaggle @kaggle@DeepMindAI:  @kaggle-in-class!\n",
      "\n",
      "Want  @kobebryant@KingJames@TigerWoods@MiaHamm @facebook @BernieSanders @Uber  @kaggle? @docker?\n",
      "\n",
      "\"docker @OmaymaS_@hadleywickham@kaggle  @WSJ@HamiltonMusical's  @askdrstats@jo_hardin47 @askdrstats@jo_hardin47  @mlevchin   @seanjtaylor @StackOverflow@drob  @msexcel @BarackObama's@HillaryClinton  @v_x1r@kaggle @v_x1r@kaggle @v_x1r@kaggle @v_x1r@kaggle @v_x1r@kaggle @hadleywickham@antgoldbloom@kaggle @hadleywickham@antgoldbloom@kaggle @kaggle    @OpenAI's  @SiliconHBO@kaggle @sfbaybikeshare? @Smerity  @facebook's @StephenPiment   @kaggle  @karpathy @vrajs5@goodreads@kaggle   @facebook@kaggle!    @Jawbone @Jawbone @kaggle@avito_ru@wendykan!  @kaggle's  @kobebryant's   @kaggle  @wesmckinn @kaggle's @ProjectJupyter @open_ai's @GameOfThrones @docker  @bkeegan @bkeegan   @mrocklin @mrocklin  @Microsoft   @abhi1thakur    @abhi1thakur  @WalterReade @ankit_dhingra@kaggle  @kaggle @ankit_dhingra@kaggle @ankit_dhingra@kaggle  @tanyacash21@kaggle @kaggle  @Expedia@kaggle @mattematics   @TensorFlo   @WalterReade's@kaggle @msjgriffiths @dwaxd   @kaggle's @WalterReade,@kaggle's @kaggle  @kaggle@jeffmoser @reactjs@facebook's@kaggle @dan_s_becker@dchudz @dan_s_becker@dchudz @dan_s_becker@dchudz @dchudz      @petewarden @Airbnb: @kaggle  @WSJ @guillaumelobet@openscience   @docker @docker @docker  @RealRojoCup  @msjgriffiths @msjgriffiths @msjgriffiths @thinker   @DanielleMorrill    @Mattermark,   @realDonaldTrump @HillaryClinton   @docker   @ndronen@GaborMelis @ndronen@GaborMelis      @HomeDepot@kaggle @kaggle!   @kaggle @ZettaVentures  @kaggle     @kaggle     @jeffmoser  @travisk\n",
      "\n",
      "1 @paulg   @kaggle @github@dchudz) @jamie_hall@docker  @coursera@kaggle @radaniba@kaggle  @kaggle @markjstephenson  @skiheavenly @skiheavenly @kaggle   @ledell@AriLamstein@kaggle @PaulLantos@kaggle     @_alastair  @HillaryClinton's  @kaggle  @kaggle:  @kyoneoblood@fperez_org@ellisonbg@ProjectJupyter@kaggle @ProjectJupyter @TensorFlo@kaggle  @WintonCapital@kaggle @Quora   @ben336   @kaggle's@wendykan @kaggle@HomeDepot @talweezy  @dchudz @dtunkelang  @radaniba@kaggle @kaggle @karpathy  @TheAtlantic@kaggle    @kaggle) @UtakataNoGotoku  @CrowdFlower's@kaggle @kaggle @USAirways@VirginAmerica @annaliviaplu@rcalsaverini@kaggle @Kaggle    @dchudz @dchudz @dchudz @mappingbabel@fchollet @kaggle.@realDonaldTrump   @mappingbabel@fchollet @mlevchin @chrisalbon  @eric_analytics  @mrocklin  @sfgov    @kaggle@Yelp @kaggle's @kaggle's   @UpshotNYT's @brandewinder@UtakataNoGotoku  @kaggle's @rseymour     @kaggle's @NataliaDiazRodr @rossmann@kaggle @airbnb@kaggle@ProjectJupyter   @ravo @ravo @UberEng    @sama@reidhoffman@jesslivingston@elonmusk@peterthiel@open_ai  @fchollet @fchollet@scikit_learn@kaggle@balazskegl @scikit_learn@kaggle@balazskegl @ItsNeuronal @kaggle,  @shivon   @ethanwhite@kaggle @facebook @derekcslater  @ethanwhite@kaggle @ethanwhite@kaggle  @BoozAllen's@kaggle. @kaggle @NipsConference?@kaggle @kaggle's@jamie_hall @wcukierski@BoozAllen's   @datoinc@StumbleUpon@kaggle:  @avisingh599 @shivon @shivon @kaggle @kaggle@jamie_hall @kaggle @kaggle's@wendykan @WalterReade@kaggle  @kaggle  @ElephantEating@kaggle @ElephantEating@kaggle @kaggle@uscensusbureau @kaggle  @kaggle @Prudential@kaggle   @xamat@MLconf  @COkiteforce @dxbydt_jasq   @googlechrome @kaggle      @kaggle @desertnaut @JustinBasilico\n",
      "\n",
      "Precisely@kaggle @lpolovets@MLconf@xamat@kaggle @lpolovets@MLconf@xamat@kaggle @lpolovets@MLconf@xamat@kaggle @xamat@MLconf@kaggle! @xamat@MLconf @MLconf,@xamat@kaggle     @googleresearch @karpathy   @kaggle:   @kaggle @kaggle @sknthla@pmarca  @karpathy @UberEng's  @pei101 @twitter's@jack @mattocko@hmason@chrisalbon  @pei101@xamat  @kaggle @rsg @kaggle      @HerringKris@kaggle @HerringKris@kaggle @kaggle @WillieLiao932@kaggle   @Smerity   @kaggle@HillaryClinton's  @john_chou    @karpathy @jeffmoser@kaggle  @COkiteforce   @COkiteforce    @climatecorp @kaggle @kaggle @kaggle  @DeutscheBank @kaggle's   @twitter. @UberEng: @Hipchat@EvanMichner  @kaggle @kaggle @twitter @twitter   @FastForwardLabs     @ramhiser     @kaggle@software_daily @kaggle    @kaggle@HillaryClinton's   @kaggle @joe_hellerstein @josephmisiti @kaggle's      @kaggle @hadleywickham,   @iansimon @karpathy@Uber: @DanielleMorrill @fchollet    @kaggle  @kaggle      @UtakataNoGotoku   @kaggle @kaggle   @HillaryClinton's   @rdpeng @nytimes @kaggle @HillaryClinton's @kaggle @HillaryClinton's   @MarekRei @kaggle's      @kaggle) @jznboyfriend   @kaggle @lyft @kaggle:   @twitter @kaggle  @Simonkhalaf   @kaggle @CERN@LHCbExperiment@kaggle @mrocklin.@ContinuumIO's @kaggle    @kaggle's  @kaggle@avito_ru @chris_bour@kaggle @chris_bour@kaggle @twitter@TwitterEng @chris_bour@kaggle @Uber@lyft   @sama  @tamaramunzner!     @asmeurer @kaggle  @nervanasys     @kaggle  @github @github  @kaggle   @kaggle.   @BenedictEvans @kaggle's @kaggle's         @kaggle@CERN @Wikunia_de@kaggle    @echen  @docker @nytimes  @kaggle     @druau@AstraZenecaUS@kaggle    @Yahoo's@TheOnion @stephaniejyee@tonyhschu @kaggle @Uber's@conormyhrvold @JeffreyDeFauw @kaggle    @math_rachel @amazon's  @kaggle@CERN  @CERN  @CERN@kaggle @EvMill    @scikit_learn   @kaggle    @toshi_k_datasci @Airbnb @kaggle   @nytimes@reddit   @kaggle's  @kaggle@CrowdFlower @Smerity @kaggle               @hadleywickham @hadleywickham @hadleywickham @hadleywickham @kaggle  @kaggle @ylecun's   @CrowdFlower@kaggle     @MPZwemer  @mat_kelcey    @mikeolson@peteskomoroch @kaggle  @kaggle's @worrydream@kickstarter @SFGiants@GameOfThrones @BenedictEvans@skupor@a16z     @kaggle @twitter:  @kaggle  @ereinerts@FountainNY   @hintikka   @kaggle @ylecun @ayirpelle  @DanielleMorrill@Mattermark@BloomThat @jeffbigham   @docker @kaggle  @kaggle's @DanielleMorrill  @kaggle   @Kaggle         @docker    @kaggle @avito_ru  @mlevchin@united's@kickstarter   @Smerity@kaggle @Kaggle   @UtakataNoGotoku  @triketora     @_inundata @pmarca@rabois@polemitis @VarunJuice @kleinsound  @VarunJuice @VarunJuice  @kaggle   @AirbnbNerds  @nytimes @bznotes           @driven_by_data @nytimes @hspter@Etsy.  @nature@ylecun, @EricBattenberg @ApacheSpark  @hintikka @hintikka  @fchollet @jeffbigham   @sam_alba      @AliveCor's  @parabuzzle  @CrowdFlower@kaggle @github @profjsb @Uber  @kaggle          @Microsoft's @erogol:  @KevinLDavenport   @samiur1204 @abhi1thakur@kaggle@antgoldbloom @__mharrison__@khanacademy @__mharrison__@khanacademy @bejoyable's@kaggle @khanacademy@kaggle   @pmarca  @kaggle@CrowdFlower   @kaggle @kaggle@CrowdFlower    @kaggle's @codinghorror@samsaffron@eviltrout @codinghorror@samsaffron@eviltrout @kaggle's  @bigdata   @fchollet@chris_bour @kaggle's @kaggle @HilaryClinton's @kaggle @mariana_farinha@kaggle  @Azure@kaggle  @tim_cook  @Quora      @scikit_learn @tdhopper      @SQLServer @Azure       @AndreaCoravos  @fchollet@dan_s_becker @stitchfix @AndrewYNg@adampaulcoates   @kaggle    @Kaggle@Quora @HillaryClinton@JebBush @Yahoo @HackerNews  @jonathonmorgan @satyanadella @frazelledazzell@DockerCon@kaggle@docker @nytimes @naftaliharris @dchudz)   @dwr@Uber @justmarkham    @Space_Station     @Quora @Quora@xamat @imgur         @kaggle's@gmail @galaxyzoo@kaggle    @kaggle's @DataJunkie @DataJunkie@facebook @chase_seibert         @Jawbone's @Jawbone's@brianwilt @kaggle@scikit_learn    @kaggle  @zack @thom_mackey @bfeld. @kaggle@quora @dchudz @kaggle's   @kaggle's @kaggle's@nytimes       @jessicamckellar @rabois@DanielleMorrill   @chengtao_chu @AppMeerkat@twitter,@Snapchat@YoApp@secretly@TurntableLive @KaggleCareers   @asmeurer@mrtz @asmeurer@mrtz @mrtz      @dchudz  @Kaggle@Merck@GoogleResearch @iPython@ProjectJupyter @Liftopia  @github @kaggle's  @noUpside @allenday @noUpside @KaterinaMarkov @noUpside   @dpatil!@pmarca,  @ravisparikh  @reddit @bfeld   @kaggle   @mattcutts   @sama      @kaggle,  @balazskegl@SaclayCDS  @jeremyphoward@gojomo@gojomo    @instagram  @ePoplawski@vekennedy@UtakataNoGotoku      @JasonPunyon @albietz      @jeffbigham @TwitterData's  @semil @JuliaLanguage's @StanChart @ersatzlabs:neural    @StackExchange.   @pmarca   @coursera@JohnsHopkins: @scala_lang @AmEpilepsySoc@kaggle @halletecco @bradleyvoytek  @codinghorror     @ylecun @conormyhrvold@Uber  @SpaceX @pmarca @tomaspetricek @moloneymb@tomaspetricek @tomaspetricek @hadleywickham@StatGarrett.   @mat_kelcey  @spotify's @kaggle   @hmason@dpatil  @hadleywickham's @twitter         @bryvdv    @github @ylecun   @AndrewYNg's  @kaggle    @johnplattml:  @BoozAllen@kaggle    @jeffbigham@hintikka@Uber @jeffbigham@Uber @Uber   @shivon  @roboticwrestler,@jeanqasaur,@neha,    @kaggle @johnmyleswhite     @united         @gatesfoundation  @johnplattml)   @houshuang @houshuang) @iaindunning @karpathy @kaggle's @TwitterEng @glouppe@CERN@kaggle    @harelba   @heathercmiller @heathercmiller  @mlmanapat's@stripe@stripe's   @thehipmunk @hughewilliams @hughewilliams    @kaggle @RichardSocher @echen      @echen    @hadleywickham     @kaggle    @newsycombinator                    @coursera.       @nytimes     @Uber @kaggle's @ycombinator's @KayBrodersen @a16z@pmarca@bhorowitz    @ApacheSpark  @okcupid.@okcupid @bayesimpact     @kaggle    @kaggle/@NIH  @vkhosla        @hadleywickham!  @DanielleMorrill    @MPZwemer  @DataRobot  @randyzwitch   @HipChat@here    @seanjtaylor, @google           @okcupid.http://t.co/Bf8jPxZKR9   @peteskomoroch @thefreemanlab@ApacheSpark  @taoyeah @graphlabteam   @karpathy's     @kaggle     @glindahl  @alexras     @carolinehoward @kaggle @hmason  @sama @vgr @kaggle @KevinLDavenport  @kaggle        @naveen @StackExchange @kaggle       @tgoetz @tgoetz @google@amazon.@amazon, @amazon @kaggle@nytimes    @jcborras @tc_fuji @pyimport  @John4man. @segmentio @Strava's       @NickJewell     @mlevchin    @joshuaforman@balajis@a16z @balajis @balajis @rjrest  @jeremyphoward  @peteskomoroch  @petewarden @joelburrill@nickpatrick   @stephenjaoates  @kaggle      @bhorowitz  @sourceforge @petewarden's @facebook.\" @peteskomoroch@HarvardBiz  @petewarden       @random_walker  @johnmyleswhite@t3kcit   @johnmyleswhite@t3kcit @johnmyleswhite@t3kcit @johnmyleswhite@t3kcit @johnmyleswhite@t3kcit @pmarca@monkbent @LinkedIn  @johnmyleswhite@t3kcit @t3kcit @kaggle   @kaggle  @random_walker      @naftaliharris  @kaggle.      @codinghorror  @xprize    @SpaceX@Uber. @Uber @jeffbigham    @kaggle's      @petewarden's@JetpacApp @sheilachristine@Quora.  @codinghorror  @pmarca        @gabegaster @gabegaster  @ben336            @joe_hellerstein's@trifacta @GitHub.              @AddHoward  @AddHoward @PeterDiamandis @AddHoward @AddHoward @ben336@movesapp   @stchangg    @brandewinder @ogrisel@thefreemanlab @DataJunkie @tgoetz @ogrisel@thefreemanlab @ogrisel @ogrisel @ogrisel  @TheEconomist@antgoldbloom @nytimes @shale34 @gdequeiroz @shale34        @airbnb          @karaswisher@waltmossberg   @tdhopper     @HipChat    @jaykreps   @johnmyleswhite @mat_kelcey   @KevinLDavenport @Pinterest's@jay23jack @AndrewPoh83     @johnmyleswhite @JeffreySax @johnmyleswhite   @mewo2 @kaggle       @strataconf        @googlechrome @kaggle  @amazon's @galaxyzoo.  @jaykreps              @Strava       @kaggle     @Airbnb @johnmyleswhite       @exploratorium  @CommonCrawl:    @ro_hit_  @RunKeeper.        @ben336  @kaggle. @Microsoft?   @functiontelechy  @Expedia @BenKremen      @kaggle       @kaggle       @Expedia!  @Expedia@kaggle       @Uber.  @amplab@MIT_CSAIL @StumbleUpon's@kaggle       @kaggle.                @kaggle: @ksimm    @Kaggle                       @karpathy's     @kaggle@amazon!     @dunnhumby@kaggle!       @kaggle          @kaggle        @billclinton! @yaaang            @Kaggle!  @AmericanAir      @kaggle @rayidghani@BarackObama's@Airbnb  @github  @joelgrus   @kaggle @arnaudsj@Kaggle    @trulia     @tableau    @kaggle   @kaggle @antgoldbloom  @karpathy @bradleyvoytek@kaggle  @SquawValley @kaggle @mat_kelcey   @jeremyphoward  @imaxxs  @jcukier  @jcukier @jcukier@kncukier@wcukierski @katealamode@kaggle @ben336 @ben336  @kaggle @nytimes?       @vgoklani @kaggle    @Kaggle @johncandido  @johncandido   @ben336   @echen @kaggle @twitter,   @kaggle @asmith @kaggle. @hackingdata @travisci, @echen.@twitter  @strataconf@Kaggle's @HesamRabeti @kaggle    @kaggle   @kaggle @kaggle @kaggle         @E_Kauf   @amazon's @mikeloukides @kaggle @karpathy  @JeffImmelt @kaggle   @Kaggle        @jaykreps       @josh_wills   @mattcutts @mattcutts @mattcutts @peteskomoroch@fivethirtyeight  @Kaggle @kevinmontrose @kaggle's@StackExchange@google     @AddHoward @DJCHUNG  @kaggle @cjpberry @kaggle     @coursera @kaggle @kaggle        @kaggle's@coursera @kaggle, @Kaggle@CareerBuilder   @CareerBuilder@kaggle @Davidharvey1986,  @CareerBuilder@kaggle @StackExchange@kaggle @googleresearch @StackExchange  @kaggle's@coursera @petewarden @gilelbaz@MPZwemer @HipChat@person@kaggle  @amazon's @smolix's    @Kaggle @kaggle @NGruen1 @NGruen1  @karpathy   @IcmlConference   @kaggle     @MPZwemer's @antgoldbloom  @kaggle @kaggle @kaggle@Nick_Craver @kaggle @kaggle  @dpatil   @petewarden@JetpacApp! @peteskomoroch@kaggle @dpatil   @walmart  @jaykreps  @ideanado@ValdisKrebs@datajunkie  @johncandido   @github     @johncandido  @Boehringer's@Kaggle @kaggle @kaggle    @johncandido @stchangg @followupthen)  @mat_kelcey@echen@kaggle@benhamner @levie @kaggle @kaggle's @johncandido @Amazon  @dropbox@Dropbox  @kaggle         @petewarden     @kaggle! @paulcdale:  @gilelbaz, @kdnuggets  @Square. @mtmdphd@millennium_us @timgluz @kaggle  @dwf @JetpacApp    @kaggle@icrunchdata @elonmusk  @mikeloukides @claireober@ben336 @david_kipping@kaggle @claireober      @bengoertzel   @DataJunkie- @nytlabs)  @myelbows @antgoldbloom@meravwogan    @rackspace  @antgoldbloom   @antgoldbloom@jeremyphoward @scobleizer's  @antgoldbloom@codinghorror @peteskomoroch  @petewarden@JetpacApp       @mewo2   @nickpatrick @akmcquade   @halvarian  @jakeporway @jakeporway@DataNoBorders @kaggle  @siah: @dpatil @sam_shah @bengoldacre   @edchedch  @petewarden  @nickpatrick  @nickpatrick @petewarden    @kaggle @Kaggle's @karpathy    @theresumator @theresumator @yaaang    @theStartupBus @kaggle's @codinghorror@github   @aribadernatal  @aribadernatal@amazonmturk@kaggle  @Kaggle @mojombo @ahrobinson3 @siah     @kaggle      @kaggle@kinect   @KIGRmarathon  @KIGRmarathon     @AddHoward  @edchedch     @ChrisReed7      @yaaang      @MorganChadA   @scobleizer      @ChrisReed7        \n"
     ]
    }
   ],
   "source": [
    "print(l)"
   ]
  },
  {
   "cell_type": "markdown",
   "metadata": {},
   "source": [
    "**NLP**"
   ]
  },
  {
   "cell_type": "code",
   "execution_count": 82,
   "metadata": {},
   "outputs": [],
   "source": [
    "import nltk as nlp"
   ]
  },
  {
   "cell_type": "code",
   "execution_count": 83,
   "metadata": {},
   "outputs": [
    {
     "name": "stdout",
     "output_type": "stream",
     "text": [
      "number of words:  23\n"
     ]
    }
   ],
   "source": [
    "text = data.text[1]\n",
    "splitted = text.split(' ')\n",
    "print('number of words: ', len(splitted))"
   ]
  },
  {
   "cell_type": "code",
   "execution_count": 84,
   "metadata": {},
   "outputs": [
    {
     "name": "stdout",
     "output_type": "stream",
     "text": [
      "unique words:  21\n"
     ]
    }
   ],
   "source": [
    "print('unique words: ', len(set(splitted)))"
   ]
  },
  {
   "cell_type": "code",
   "execution_count": 85,
   "metadata": {},
   "outputs": [
    {
     "name": "stdout",
     "output_type": "stream",
     "text": [
      "frequency of words:  <FreqDist with 21 samples and 23 outcomes>\n"
     ]
    }
   ],
   "source": [
    "dist = nlp.FreqDist(splitted)\n",
    "print('frequency of words: ',dist)"
   ]
  },
  {
   "cell_type": "code",
   "execution_count": 86,
   "metadata": {},
   "outputs": [
    {
     "name": "stdout",
     "output_type": "stream",
     "text": [
      "normalized words:  ['task', 'tasked', 'tasks', 'tasking']\n"
     ]
    }
   ],
   "source": [
    "words = 'task Tasked tasks tasking'\n",
    "word_list = words.lower().split(' ')\n",
    "print('normalized words: ', word_list)"
   ]
  },
  {
   "cell_type": "code",
   "execution_count": 87,
   "metadata": {},
   "outputs": [
    {
     "name": "stdout",
     "output_type": "stream",
     "text": [
      "root words:  ['task', 'task', 'task', 'task']\n"
     ]
    }
   ],
   "source": [
    "porter_stemmer = nlp.PorterStemmer()\n",
    "roots = [porter_stemmer.stem(word) for word in word_list]\n",
    "print('root words: ',roots)"
   ]
  },
  {
   "cell_type": "code",
   "execution_count": 88,
   "metadata": {},
   "outputs": [
    {
     "name": "stdout",
     "output_type": "stream",
     "text": [
      "result of stemming:  ['univers', 'recognit', 'becom', 'be', 'happen']\n"
     ]
    }
   ],
   "source": [
    "stemming_word_list = ['Universal', 'recognition', 'become', 'being', 'happened']\n",
    "porter_stemmer = nlp.PorterStemmer()\n",
    "roots = [porter_stemmer.stem(word) for word in stemming_word_list]\n",
    "print('result of stemming: ', roots)"
   ]
  },
  {
   "cell_type": "code",
   "execution_count": 89,
   "metadata": {},
   "outputs": [
    {
     "name": "stdout",
     "output_type": "stream",
     "text": [
      "result of lemmatization:  ['Universal', 'recognition', 'become', 'being', 'happened']\n"
     ]
    }
   ],
   "source": [
    "lemma = nlp.WordNetLemmatizer()\n",
    "lemma_roots = [lemma.lemmatize(word) for word in stemming_word_list]\n",
    "print('result of lemmatization: ', lemma_roots)"
   ]
  },
  {
   "cell_type": "code",
   "execution_count": 90,
   "metadata": {},
   "outputs": [
    {
     "name": "stdout",
     "output_type": "stream",
     "text": [
      "tokenized words:  ['You', \"'re\", 'in', 'the', 'right', 'place', '!']\n"
     ]
    }
   ],
   "source": [
    "text_t = \"You're in the right place!\"\n",
    "print('tokenized words: ', nlp.word_tokenize(text_t))"
   ]
  },
  {
   "cell_type": "markdown",
   "metadata": {},
   "source": [
    "text classification"
   ]
  },
  {
   "cell_type": "code",
   "execution_count": 91,
   "metadata": {},
   "outputs": [],
   "source": [
    "data = pd.read_csv('gender-classifier/gender-classifier-DFE-791531.csv',\n",
    "                  encoding='latin1')"
   ]
  },
  {
   "cell_type": "code",
   "execution_count": 94,
   "metadata": {},
   "outputs": [],
   "source": [
    "data = pd.concat([data.gender, data.description],axis=1)"
   ]
  },
  {
   "cell_type": "code",
   "execution_count": 95,
   "metadata": {},
   "outputs": [],
   "source": [
    "data.dropna(inplace=True, axis=0)"
   ]
  },
  {
   "cell_type": "code",
   "execution_count": 97,
   "metadata": {},
   "outputs": [],
   "source": [
    "data.gender = [1 if x == 'female' else 0 for x in data.gender]"
   ]
  },
  {
   "cell_type": "code",
   "execution_count": 100,
   "metadata": {},
   "outputs": [
    {
     "name": "stdout",
     "output_type": "stream",
     "text": [
      "Most used 150 words: ['10', '14', '15', '16', '17', '18', '19', '20', '2015', '__', 'account', 'art', 'artist', 'author', 'based', 'beautiful', 'best', 'better', 'big', 'blog', 'blogger', 'book', 'books', 'born', 'business', 'check', 'city', 'com', 'community', 'continuous', 'dad', 'day', 'design', 'designer', 'digital', 'director', 'don', 'editor', 'email', 'enthusiast', 'events', 'family', 'fan', 'fashion', 'father', 'follow', 'food', 'football', 'founder', 'free', 'friend', 'friends', 'fun', 'game', 'gamer', 'games', 'girl', 'gmail', 'god', 'good', 'got', 'great', 'happy', 'hard', 'health', 'heart', 'help', 'high', 'home', 'http', 'https', 'husband', 'ig', 'im', 'instagram', 'internet', 'just', 'know', 'latest', 'life', 'like', 'little', 'live', 'living', 'll', 'love', 'lover', 'loves', 'make', 'man', 'marketing', 'media', 'member', 'mind', 'mom', 'music', 'need', 'new', 'news', 'official', 'old', 'online', 'owner', 'page', 'people', 'personal', 'photographer', 'play', 'politics', 'price', 'professional', 'proud', 'radio', 'real', 'right', 'say', 'sc', 'school', 'snapchat', 'social', 'sports', 'state', 'student', 'stuff', 'talk', 'team', 'tech', 'technology', 'things', 'time', 'travel', 'tv', 'tweet', 'tweets', 'twitter', 'uk', 'university', 'updates', 'video', 'views', 'want', 'way', 'wife', 'work', 'world', 'writer', 'year', 'years', 'ªá', 'êû']\n"
     ]
    }
   ],
   "source": [
    "from sklearn.feature_extraction.text import CountVectorizer\n",
    "max_features = 150\n",
    "count_vectorizer = CountVectorizer(stop_words='english', max_features=max_features)\n",
    "sparse_matrix = count_vectorizer.fit_transform(data.description.values).toarray()\n",
    "print('Most used {} words: {}'.format(max_features,\n",
    "                                      count_vectorizer.get_feature_names()))\n",
    "y = data.iloc[:,0].values"
   ]
  },
  {
   "cell_type": "code",
   "execution_count": 101,
   "metadata": {},
   "outputs": [],
   "source": [
    "from sklearn.model_selection import train_test_split\n",
    "x_train, x_test, y_train, y_test = train_test_split(sparse_matrix, y,\n",
    "                                                   test_size=0.1,\n",
    "                                                   random_state=0)"
   ]
  },
  {
   "cell_type": "code",
   "execution_count": 103,
   "metadata": {},
   "outputs": [
    {
     "data": {
      "text/plain": [
       "GaussianNB(priors=None, var_smoothing=1e-09)"
      ]
     },
     "execution_count": 103,
     "metadata": {},
     "output_type": "execute_result"
    }
   ],
   "source": [
    "from sklearn.naive_bayes import GaussianNB\n",
    "nb = GaussianNB()\n",
    "nb.fit(x_train,y_train)"
   ]
  },
  {
   "cell_type": "code",
   "execution_count": 104,
   "metadata": {},
   "outputs": [],
   "source": [
    "y_pred = nb.predict(x_test)"
   ]
  },
  {
   "cell_type": "code",
   "execution_count": 105,
   "metadata": {},
   "outputs": [
    {
     "data": {
      "text/plain": [
       "array([[417, 607],\n",
       "       [ 97, 502]], dtype=int64)"
      ]
     },
     "execution_count": 105,
     "metadata": {},
     "output_type": "execute_result"
    }
   ],
   "source": [
    "from sklearn.metrics import confusion_matrix\n",
    "cm = confusion_matrix(y_test,y_pred)\n",
    "cm"
   ]
  },
  {
   "cell_type": "code",
   "execution_count": 107,
   "metadata": {},
   "outputs": [
    {
     "data": {
      "image/png": "[encoded data removed]",
      "text/plain": [
       "<Figure size 360x360 with 2 Axes>"
      ]
     },
     "metadata": {
      "needs_background": "light"
     },
     "output_type": "display_data"
    }
   ],
   "source": [
    "import matplotlib.pyplot as plt\n",
    "%matplotlib inline\n",
    "import seaborn as sns\n",
    "f, ax = plt.subplots(figsize=(5,5))\n",
    "sns.heatmap(cm, annot=True, linewidths=0.5, linecolor='red',\n",
    "           fmt='.1f', ax=ax)\n",
    "plt.show()"
   ]
  },
  {
   "cell_type": "code",
   "execution_count": null,
   "metadata": {},
   "outputs": [],
   "source": []
  }
 ],
 "metadata": {
  "kernelspec": {
   "display_name": "Python 3",
   "language": "python",
   "name": "python3"
  },
  "language_info": {
   "codemirror_mode": {
    "name": "ipython",
    "version": 3
   },
   "file_extension": ".py",
   "mimetype": "text/x-python",
   "name": "python",
   "nbconvert_exporter": "python",
   "pygments_lexer": "ipython3",
   "version": "3.7.2"
  }
 },
 "nbformat": 4,
 "nbformat_minor": 2
}
