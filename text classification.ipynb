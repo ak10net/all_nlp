{
 "cells": [
  {
   "cell_type": "code",
   "execution_count": 2,
   "id": "protective-replacement",
   "metadata": {},
   "outputs": [],
   "source": [
    "import spacy\n",
    "nlp = spacy.load('en_core_web_sm')"
   ]
  },
  {
   "cell_type": "code",
   "execution_count": 3,
   "id": "listed-house",
   "metadata": {},
   "outputs": [],
   "source": [
    "terms = ['I', 'like', 'apples', 'oranges', 'pears']\n",
    "vectors = [nlp(term).vector.tolist() for term in terms]"
   ]
  },
  {
   "cell_type": "code",
   "execution_count": 4,
   "id": "ignored-presence",
   "metadata": {},
   "outputs": [],
   "source": [
    "import numpy as np\n",
    "import pandas as pd"
   ]
  },
  {
   "cell_type": "code",
   "execution_count": 5,
   "id": "planned-three",
   "metadata": {},
   "outputs": [
    {
     "data": {
      "text/plain": [
       "0     2.955669\n",
       "1     3.195763\n",
       "2     1.915051\n",
       "3     1.288756\n",
       "4    -0.205873\n",
       "        ...   \n",
       "91   -0.072856\n",
       "92    2.420412\n",
       "93   -0.790477\n",
       "94    0.096754\n",
       "95   -0.888562\n",
       "Name: apples, Length: 96, dtype: float64"
      ]
     },
     "execution_count": 5,
     "metadata": {},
     "output_type": "execute_result"
    }
   ],
   "source": [
    "pd.Series(vectors[terms.index('apples')]).rename('apples')"
   ]
  },
  {
   "cell_type": "code",
   "execution_count": 6,
   "id": "elementary-field",
   "metadata": {},
   "outputs": [
    {
     "data": {
      "text/html": [
       "<style  type=\"text/css\" >\n",
       "#T_357e0_row0_col0,#T_357e0_row1_col1,#T_357e0_row2_col2,#T_357e0_row3_col3,#T_357e0_row4_col4{\n",
       "            background-color:  #808080;\n",
       "            color:  #000000;\n",
       "        }#T_357e0_row0_col1{\n",
       "            background-color:  #d9d9d9;\n",
       "            color:  #000000;\n",
       "        }#T_357e0_row0_col2,#T_357e0_row0_col3,#T_357e0_row0_col4,#T_357e0_row2_col0,#T_357e0_row2_col1{\n",
       "            background-color:  #f1f1f1;\n",
       "            color:  #000000;\n",
       "        }#T_357e0_row1_col0{\n",
       "            background-color:  #d0d0d0;\n",
       "            color:  #000000;\n",
       "        }#T_357e0_row1_col2{\n",
       "            background-color:  #e6e6e6;\n",
       "            color:  #000000;\n",
       "        }#T_357e0_row1_col3,#T_357e0_row4_col1{\n",
       "            background-color:  #e2e2e2;\n",
       "            color:  #000000;\n",
       "        }#T_357e0_row1_col4{\n",
       "            background-color:  #dfdfdf;\n",
       "            color:  #000000;\n",
       "        }#T_357e0_row2_col3{\n",
       "            background-color:  #9f9f9f;\n",
       "            color:  #000000;\n",
       "        }#T_357e0_row2_col4{\n",
       "            background-color:  #979797;\n",
       "            color:  #000000;\n",
       "        }#T_357e0_row3_col0{\n",
       "            background-color:  #ededed;\n",
       "            color:  #000000;\n",
       "        }#T_357e0_row3_col1,#T_357e0_row4_col0{\n",
       "            background-color:  #e9e9e9;\n",
       "            color:  #000000;\n",
       "        }#T_357e0_row3_col2,#T_357e0_row3_col4{\n",
       "            background-color:  #9e9e9e;\n",
       "            color:  #000000;\n",
       "        }#T_357e0_row4_col2{\n",
       "            background-color:  #969696;\n",
       "            color:  #000000;\n",
       "        }#T_357e0_row4_col3{\n",
       "            background-color:  #9d9d9d;\n",
       "            color:  #000000;\n",
       "        }</style><table id=\"T_357e0_\" ><thead>    <tr>        <th class=\"blank level0\" ></th>        <th class=\"col_heading level0 col0\" >I</th>        <th class=\"col_heading level0 col1\" >like</th>        <th class=\"col_heading level0 col2\" >apples</th>        <th class=\"col_heading level0 col3\" >oranges</th>        <th class=\"col_heading level0 col4\" >pears</th>    </tr></thead><tbody>\n",
       "                <tr>\n",
       "                        <th id=\"T_357e0_level0_row0\" class=\"row_heading level0 row0\" >I</th>\n",
       "                        <td id=\"T_357e0_row0_col0\" class=\"data row0 col0\" >1.000000</td>\n",
       "                        <td id=\"T_357e0_row0_col1\" class=\"data row0 col1\" >0.296000</td>\n",
       "                        <td id=\"T_357e0_row0_col2\" class=\"data row0 col2\" >0.007000</td>\n",
       "                        <td id=\"T_357e0_row0_col3\" class=\"data row0 col3\" >0.043000</td>\n",
       "                        <td id=\"T_357e0_row0_col4\" class=\"data row0 col4\" >0.079000</td>\n",
       "            </tr>\n",
       "            <tr>\n",
       "                        <th id=\"T_357e0_level0_row1\" class=\"row_heading level0 row1\" >like</th>\n",
       "                        <td id=\"T_357e0_row1_col0\" class=\"data row1 col0\" >0.296000</td>\n",
       "                        <td id=\"T_357e0_row1_col1\" class=\"data row1 col1\" >1.000000</td>\n",
       "                        <td id=\"T_357e0_row1_col2\" class=\"data row1 col2\" >0.107000</td>\n",
       "                        <td id=\"T_357e0_row1_col3\" class=\"data row1 col3\" >0.168000</td>\n",
       "                        <td id=\"T_357e0_row1_col4\" class=\"data row1 col4\" >0.223000</td>\n",
       "            </tr>\n",
       "            <tr>\n",
       "                        <th id=\"T_357e0_level0_row2\" class=\"row_heading level0 row2\" >apples</th>\n",
       "                        <td id=\"T_357e0_row2_col0\" class=\"data row2 col0\" >0.007000</td>\n",
       "                        <td id=\"T_357e0_row2_col1\" class=\"data row2 col1\" >0.107000</td>\n",
       "                        <td id=\"T_357e0_row2_col2\" class=\"data row2 col2\" >1.000000</td>\n",
       "                        <td id=\"T_357e0_row2_col3\" class=\"data row2 col3\" >0.736000</td>\n",
       "                        <td id=\"T_357e0_row2_col4\" class=\"data row2 col4\" >0.808000</td>\n",
       "            </tr>\n",
       "            <tr>\n",
       "                        <th id=\"T_357e0_level0_row3\" class=\"row_heading level0 row3\" >oranges</th>\n",
       "                        <td id=\"T_357e0_row3_col0\" class=\"data row3 col0\" >0.043000</td>\n",
       "                        <td id=\"T_357e0_row3_col1\" class=\"data row3 col1\" >0.168000</td>\n",
       "                        <td id=\"T_357e0_row3_col2\" class=\"data row3 col2\" >0.736000</td>\n",
       "                        <td id=\"T_357e0_row3_col3\" class=\"data row3 col3\" >1.000000</td>\n",
       "                        <td id=\"T_357e0_row3_col4\" class=\"data row3 col4\" >0.757000</td>\n",
       "            </tr>\n",
       "            <tr>\n",
       "                        <th id=\"T_357e0_level0_row4\" class=\"row_heading level0 row4\" >pears</th>\n",
       "                        <td id=\"T_357e0_row4_col0\" class=\"data row4 col0\" >0.079000</td>\n",
       "                        <td id=\"T_357e0_row4_col1\" class=\"data row4 col1\" >0.223000</td>\n",
       "                        <td id=\"T_357e0_row4_col2\" class=\"data row4 col2\" >0.808000</td>\n",
       "                        <td id=\"T_357e0_row4_col3\" class=\"data row4 col3\" >0.757000</td>\n",
       "                        <td id=\"T_357e0_row4_col4\" class=\"data row4 col4\" >1.000000</td>\n",
       "            </tr>\n",
       "    </tbody></table>"
      ],
      "text/plain": [
       "<pandas.io.formats.style.Styler at 0x19c8fc25c88>"
      ]
     },
     "execution_count": 6,
     "metadata": {},
     "output_type": "execute_result"
    }
   ],
   "source": [
    "import seaborn as sns\n",
    "from sklearn.metrics.pairwise import cosine_similarity\n",
    "\n",
    "cm = sns.light_palette('Gray', as_cmap=True)\n",
    "pd.DataFrame(\n",
    "    cosine_similarity(vectors),\n",
    "    index=terms, columns=terms\n",
    ").round(3).style.background_gradient(cmap=cm)"
   ]
  },
  {
   "cell_type": "code",
   "execution_count": 9,
   "id": "aggregate-caution",
   "metadata": {},
   "outputs": [],
   "source": [
    "import os\n",
    "import zipfile\n",
    "from io import BytesIO\n",
    "import requests\n",
    "\n",
    "data_dir = f'{os.getcwd()}/data'\n",
    "\n",
    "if not os.path.exists(data_dir):\n",
    "    os.mkdir(data_dir)\n",
    "    \n",
    "url = 'https://archive.ics.uci.edu/ml/machine-learning-databases/00331/sentiment%20labelled%20sentences.zip'\n",
    "response = requests.get(url)\n",
    "\n",
    "with zipfile.ZipFile(file=BytesIO(response.content), mode='r') as compressed_file:\n",
    "    compressed_file.extractall(data_dir)"
   ]
  },
  {
   "cell_type": "code",
   "execution_count": 10,
   "id": "documentary-stream",
   "metadata": {},
   "outputs": [],
   "source": [
    "df_list = []\n",
    "\n",
    "for csv_file in ['imdb_labelled.txt', 'yelp_labelled.txt',\n",
    "                'amazon_cells_labelled.txt']:\n",
    "    csv_file_with_path = f'{data_dir}/sentiment labelled sentences/{csv_file}'\n",
    "    temp_df = pd.read_csv(csv_file_with_path,\n",
    "                         sep='\\t', header=0,\n",
    "                         names=['text', 'sentiment'])\n",
    "    df_list.append(temp_df)\n",
    "    df = pd.concat(df_list)"
   ]
  },
  {
   "cell_type": "code",
   "execution_count": 11,
   "id": "concrete-writing",
   "metadata": {},
   "outputs": [
    {
     "data": {
      "text/plain": [
       "<matplotlib.axes._subplots.AxesSubplot at 0x19c91fad2b0>"
      ]
     },
     "execution_count": 11,
     "metadata": {},
     "output_type": "execute_result"
    },
    {
     "data": {
      "image/png": "[encoded data removed]",
      "text/plain": [
       "<Figure size 432x288 with 1 Axes>"
      ]
     },
     "metadata": {},
     "output_type": "display_data"
    }
   ],
   "source": [
    "explode = [0.05, 0.05]\n",
    "colors = ['#777777', '#111111']\n",
    "df['sentiment'].value_counts().plot(\n",
    "kind='pie', colors=colors, explode=explode\n",
    ")"
   ]
  },
  {
   "cell_type": "code",
   "execution_count": 13,
   "id": "searching-albert",
   "metadata": {},
   "outputs": [
    {
     "data": {
      "text/html": [
       "<div>\n",
       "<style scoped>\n",
       "    .dataframe tbody tr th:only-of-type {\n",
       "        vertical-align: middle;\n",
       "    }\n",
       "\n",
       "    .dataframe tbody tr th {\n",
       "        vertical-align: top;\n",
       "    }\n",
       "\n",
       "    .dataframe thead th {\n",
       "        text-align: right;\n",
       "    }\n",
       "</style>\n",
       "<table border=\"1\" class=\"dataframe\">\n",
       "  <thead>\n",
       "    <tr style=\"text-align: right;\">\n",
       "      <th></th>\n",
       "      <th>text</th>\n",
       "      <th>sentiment</th>\n",
       "    </tr>\n",
       "  </thead>\n",
       "  <tbody>\n",
       "    <tr>\n",
       "      <th>2</th>\n",
       "      <td>Stopped by during the late May bank holiday off Rick Steve recommendation and loved it.</td>\n",
       "      <td>1</td>\n",
       "    </tr>\n",
       "    <tr>\n",
       "      <th>317</th>\n",
       "      <td>I want my money back.</td>\n",
       "      <td>0</td>\n",
       "    </tr>\n",
       "    <tr>\n",
       "      <th>733</th>\n",
       "      <td>We have tried 2 units and they both failed within 2 months.. Pros</td>\n",
       "      <td>0</td>\n",
       "    </tr>\n",
       "    <tr>\n",
       "      <th>458</th>\n",
       "      <td>We loved the place.</td>\n",
       "      <td>1</td>\n",
       "    </tr>\n",
       "    <tr>\n",
       "      <th>672</th>\n",
       "      <td>It is well made, easy to access the phone and has a handy, detachable belt clip.</td>\n",
       "      <td>1</td>\n",
       "    </tr>\n",
       "  </tbody>\n",
       "</table>\n",
       "</div>"
      ],
      "text/plain": [
       "                                                                                        text  \\\n",
       "2    Stopped by during the late May bank holiday off Rick Steve recommendation and loved it.   \n",
       "317                                                                    I want my money back.   \n",
       "733                        We have tried 2 units and they both failed within 2 months.. Pros   \n",
       "458                                                                      We loved the place.   \n",
       "672         It is well made, easy to access the phone and has a handy, detachable belt clip.   \n",
       "\n",
       "     sentiment  \n",
       "2            1  \n",
       "317          0  \n",
       "733          0  \n",
       "458          1  \n",
       "672          1  "
      ]
     },
     "execution_count": 13,
     "metadata": {},
     "output_type": "execute_result"
    }
   ],
   "source": [
    "pd.options.display.max_colwidth = 90\n",
    "df[['text', 'sentiment']].sample(5, random_state=2)"
   ]
  },
  {
   "cell_type": "code",
   "execution_count": 15,
   "id": "canadian-heather",
   "metadata": {},
   "outputs": [],
   "source": [
    "from sklearn.model_selection import train_test_split\n",
    "from sklearn.feature_extraction.text import CountVectorizer\n",
    "from sklearn.naive_bayes import MultinomialNB\n",
    "from sklearn.metrics import precision_recall_fscore_support\n",
    "\n",
    "df_train, df_test = train_test_split(df, test_size=0.4,\n",
    "random_state=42)\n",
    "y_train = df_train['sentiment']\n",
    "y_test = df_test['sentiment']\n",
    "\n",
    "vec = CountVectorizer(ngram_range=(1,3), min_df=3,\n",
    "strip_accents='ascii')\n",
    "x_train = vec.fit_transform(df_train['text'])\n",
    "x_test = vec.transform(df_test['text'])\n",
    "\n",
    "clf = MultinomialNB(fit_prior=True)\n",
    "clf.fit(x_train, y_train)\n",
    "y_test_pred = clf.predict(x_test)\n",
    "\n",
    "p, r, f, s = precision_recall_fscore_support(y_test, y_test_pred)"
   ]
  },
  {
   "cell_type": "code",
   "execution_count": null,
   "id": "industrial-declaration",
   "metadata": {},
   "outputs": [],
   "source": []
  }
 ],
 "metadata": {
  "kernelspec": {
   "display_name": "Python 3",
   "language": "python",
   "name": "python3"
  },
  "language_info": {
   "codemirror_mode": {
    "name": "ipython",
    "version": 3
   },
   "file_extension": ".py",
   "mimetype": "text/x-python",
   "name": "python",
   "nbconvert_exporter": "python",
   "pygments_lexer": "ipython3",
   "version": "3.7.2"
  }
 },
 "nbformat": 4,
 "nbformat_minor": 5
}
