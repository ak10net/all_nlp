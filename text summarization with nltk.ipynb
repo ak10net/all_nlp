{
 "cells": [
  {
   "cell_type": "markdown",
   "metadata": {},
   "source": [
    "# process\n",
    "\n",
    "1. clean text\n",
    "2. split text at sentence level\n",
    "3. calulated weighted frequence of words ( how many time word occurs / number of time word with highest frequency occur)\n",
    "4. replace words by their weighted frequencies in original sentences\n",
    "5. sort in descending order of sum of weighted frequencies\n",
    "6. pick top once as summary"
   ]
  },
  {
   "cell_type": "code",
   "execution_count": 5,
   "metadata": {},
   "outputs": [],
   "source": [
    "import bs4 as bs\n",
    "import urllib.request\n",
    "import re\n",
    "\n",
    "scraped_data = urllib.request.urlopen('https://en.wikipedia.org/wiki/Dyatlov_Pass_incident')\n",
    "\n",
    "article = scraped_data.read()\n",
    "\n",
    "parsed_article = bs.BeautifulSoup(article, 'lxml')\n",
    "\n",
    "paragraphs = parsed_article.find_all('p')\n",
    "\n",
    "article_text = ''\n",
    "\n",
    "for p in paragraphs:\n",
    "    article_text += p.text"
   ]
  },
  {
   "cell_type": "code",
   "execution_count": 7,
   "metadata": {},
   "outputs": [],
   "source": [
    "# preprocessing\n",
    "# remove square brackets and extra spaces\n",
    "article_text = re.sub(r'\\[[0-9]*\\]', ' ', article_text)\n",
    "article_text = re.sub(r'\\s+', ' ', article_text)\n",
    "\n",
    "# remove special chars and digits\n",
    "formatted_article_text = re.sub('[^a-zA-Z]', ' ', article_text)\n",
    "formatted_article_text = re.sub(r'\\s+', ' ', formatted_article_text)"
   ]
  },
  {
   "cell_type": "code",
   "execution_count": 9,
   "metadata": {},
   "outputs": [],
   "source": [
    "# converting text to sentences\n",
    "import nltk\n",
    "from nltk import sent_tokenize, word_tokenize\n",
    "sentence_list = nltk.sent_tokenize(article_text)\n",
    "\n",
    "stopwords = nltk.corpus.stopwords.words('english')\n",
    "\n",
    "word_frequencies = {}\n",
    "for word in nltk.word_tokenize(formatted_article_text):\n",
    "    if word not in stopwords:\n",
    "        if word not in word_frequencies.keys():\n",
    "            word_frequencies[word] = 1\n",
    "        else:\n",
    "            word_frequencies[word] += 1\n",
    "            "
   ]
  },
  {
   "cell_type": "code",
   "execution_count": 10,
   "metadata": {},
   "outputs": [],
   "source": [
    "# weighted frequency of words\n",
    "\n",
    "maximum_frequency = max(word_frequencies.values())\n",
    "\n",
    "for word in word_frequencies.keys():\n",
    "    word_frequencies[word] = (word_frequencies[word]/maximum_frequency)"
   ]
  },
  {
   "cell_type": "code",
   "execution_count": 13,
   "metadata": {},
   "outputs": [],
   "source": [
    "# sentence scores\n",
    "\n",
    "sentence_scores = {}\n",
    "\n",
    "for sent in sentence_list:\n",
    "    for word in nltk.word_tokenize(sent.lower()):\n",
    "        if word in word_frequencies.keys():\n",
    "            if len(sent.split(' ')) < 30:\n",
    "                if sent not in sentence_score.keys():\n",
    "                    sentence_scores[sent] = word_frequencies[word]\n",
    "                else:\n",
    "                    sentence_scores[sent] += word_frequencies[word]"
   ]
  },
  {
   "cell_type": "code",
   "execution_count": 14,
   "metadata": {},
   "outputs": [
    {
     "name": "stdout",
     "output_type": "stream",
     "text": [
      "The foundation's stated aim is to continue investigation of the case and to maintain the Dyatlov Museum to preserve the memory of the dead hikers. There are indeed records of parachute mines being tested by the Soviet military in the area around the time the hikers were there. On 26 February, the searchers found the group's abandoned and badly damaged tent on Kholat Syakhl. A legal inquest started immediately after the first five bodies were found. The goal of the expedition was to reach Gora Otorten (Гора Отортен), a mountain 10 kilometres (6.2 mi) north of the site of the incident. Diaries and cameras found around their last campsite made it possible to track the group's route up to the day preceding the incident. An examination of the four bodies which were found in May shifted the narrative as to what had occurred during the incident. In 1967, Sverdlovsk writer and journalist Yuri Yarovoi (Russian: Юрий Яровой) published the novel Of the Highest Degree of Complexity, inspired by the incident. In 1990, he published an article which included his admission that the investigation team had no rational explanation for the incident. Despite its fictional narrative, Matveyeva's book remains the largest source of documentary materials ever made available to the public regarding the incident.\n"
     ]
    }
   ],
   "source": [
    "# summary\n",
    "\n",
    "import heapq\n",
    "summary_sentences = heapq.nlargest(10, sentence_scores, key=sentence_scores.get)\n",
    "\n",
    "summary = ' '.join(summary_sentences)\n",
    "\n",
    "print(f'{summary}')"
   ]
  },
  {
   "cell_type": "code",
   "execution_count": null,
   "metadata": {},
   "outputs": [],
   "source": []
  }
 ],
 "metadata": {
  "kernelspec": {
   "display_name": "Python 3",
   "language": "python",
   "name": "python3"
  },
  "language_info": {
   "codemirror_mode": {
    "name": "ipython",
    "version": 3
   },
   "file_extension": ".py",
   "mimetype": "text/x-python",
   "name": "python",
   "nbconvert_exporter": "python",
   "pygments_lexer": "ipython3",
   "version": "3.7.3"
  }
 },
 "nbformat": 4,
 "nbformat_minor": 2
}
